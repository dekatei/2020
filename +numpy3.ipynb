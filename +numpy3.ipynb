{
 "cells": [
  {
   "cell_type": "code",
   "execution_count": 20,
   "metadata": {},
   "outputs": [
    {
     "name": "stdout",
     "output_type": "stream",
     "text": [
      "Время выполнения: 5.050893068313599\n"
     ]
    }
   ],
   "source": [
    "import numpy as np\n",
    "import modelparameters as mpar\n",
    "from mpl_toolkits.mplot3d import Axes3D\n",
    "from pylab import *\n",
    "from scipy.integrate import odeint\n",
    "import time\n",
    "a=np.zeros((2,3,3),dtype=np.float64)\n",
    "#print ('ui',a.shape)\n",
    "me,mp1,mp2=1.0,1836.2,1836.2\n",
    "m=np.array([me,mp1,mp2])\n",
    "#print (a)\n",
    "#a[1,:,:]=(a[1,:,:].T/m).T\n",
    "#print(a)\n",
    "aep=mpar.aep\n",
    "app=mpar.app\n",
    "p = mpar.p\n",
    "#res=np.zeros(a.shape,dtype=np.float64)\n",
    "#print (res)\n",
    "def dif(a,t):\n",
    "    #a\n",
    "    a = np.reshape(a, (2,3,3))\n",
    "    res=np.zeros((2,3,3),dtype=np.float64)\n",
    "    res[0,:,:]=(a[1,:,:].T/m).T\n",
    "    res[1,0,:]=(a[0,1,:]-a[0,0,:])/(np.dot(a[0,1,:]-a[0,0,:],a[0,1,:]-a[0,0,:])+aep**2)**(1.5)+(a[0,2,:]-a[0,0,:])/(np.dot(a[0,2,:]-a[0,0,:],a[0,2,:]-a[0,0,:])+aep**2)**(1.5)\n",
    "    res[1,1,:]=-(a[0,1,:]-a[0,0,:])/(np.dot(a[0,1,:]-a[0,0,:],a[0,1,:]-a[0,0,:])+aep**2)**(1.5)+(a[0,1,:]-a[0,2,:])/(np.dot(a[0,2,:]-a[0,1,:],a[0,2,:]-a[0,1,:])+app**2)**(1.5)\n",
    "    res[1,2,:]=-(a[0,2,:]-a[0,0,:])/(np.dot(a[0,2,:]-a[0,0,:],a[0,2,:]-a[0,0,:])+aep**2)**(1.5)+(a[0,2,:]-a[0,1,:])/(np.dot(a[0,2,:]-a[0,1,:],a[0,2,:]-a[0,1,:])+app**2)**(1.5)\n",
    "    return np.reshape(res,(18))\n",
    "   \n",
    "#print (dif(a,mpar.t))\n",
    "def a_0(i):\n",
    "    a_0 =np.array( [0, 0, 0, -mpar.dist / 2, 0, 0, mpar.dist / 2, 0, 0, p[i][0], p[i][1], p[i][2], 0, 0, 0, 0, 0, 0])#[[[0, 0, 0], [-mpar.dist / 2, 0, 0], [mpar.dist / 2, 0, 0]], [[p[i][0], p[i][1], p[i][2]], [0, 0, 0], [0, 0, 0]]])   #[0, 0, 0, -mpar.dist / 2, 0, 0, mpar.dist / 2, 0, 0, p[i][0], p[i][1], p[i][2], 0, 0, 0, 0, 0, 0])\n",
    "    return a_0\n",
    "#solution = odeint(dif, a_0(0), mpar.t)\n",
    "##Решения 18 уравнений для n экспериментов\n",
    "start = time.time()\n",
    "solution=[]\n",
    "for i in range (mpar.n):\n",
    "    solution.append(odeint(dif, a_0(i), mpar.t))\n",
    "#print(solution)\n",
    "def E(t):\n",
    "    E = mpar.E_0 * (np.sin(np.pi * t / mpar.T)) ** 2 * np.sin(mpar.w_0 * t)\n",
    "    return E\n",
    "\n",
    "t2 = np.linspace(mpar.u, mpar.u +  325, 100000)\n",
    "def dif2(a,t):\n",
    "    a = np.reshape(a, (2,3,3))\n",
    "    res=np.zeros((2,3,3),dtype=np.float64)\n",
    "    res[0,:,:]=(a[1,:,:].T/m).T\n",
    "    res[1,0,:]=(a[0,1,:]-a[0,0,:])/(np.dot(a[0,1,:]-a[0,0,:],a[0,1,:]-a[0,0,:])+aep**2)**(1.5)+(a[0,2,:]-a[0,0,:])/(np.dot(a[0,2,:]-a[0,0,:],a[0,2,:]-a[0,0,:])+aep**2)**(1.5)\n",
    "    res[1,1,:]=-(a[0,1,:]-a[0,0,:])/(np.dot(a[0,1,:]-a[0,0,:],a[0,1,:]-a[0,0,:])+aep**2)**(1.5)+(a[0,1,:]-a[0,2,:])/(np.dot(a[0,2,:]-a[0,1,:],a[0,2,:]-a[0,1,:])+app**2)**(1.5)\n",
    "    res[1,2,:]=-(a[0,2,:]-a[0,0,:])/(np.dot(a[0,2,:]-a[0,0,:],a[0,2,:]-a[0,0,:])+aep**2)**(1.5)+(a[0,2,:]-a[0,1,:])/(np.dot(a[0,2,:]-a[0,1,:],a[0,2,:]-a[0,1,:])+app**2)**(1.5)\n",
    "    res[1,:,2]=res[1,:,2]+np.array([-1,1,1])*E(t)\n",
    "    return np.reshape(res,(18))\n",
    "def a_00(i):\n",
    "    a_00 = np.array([solution[i][mpar.L - 1, 0], solution[i][mpar.L - 1, 1], solution[i][mpar.L - 1, 2], solution[i][mpar.L - 1, 3], solution[i][mpar.L - 1, 4], solution[i][mpar.L - 1, 5], solution[i][mpar.L - 1, 6], solution[i][mpar.L - 1, 7], solution[i][mpar.L - 1, 8], solution[i][mpar.L - 1, 9], solution[i][mpar.L - 1, 10], solution[i][mpar.L - 1, 11], solution[i][mpar.L - 1, 12], solution[i][mpar.L - 1, 13], solution[i][mpar.L - 1, 14], solution[i][mpar.L - 1, 15], solution[i][mpar.L - 1, 16], solution[i][mpar.L - 1, 17]])\n",
    "    return a_00\n",
    "\n",
    "\n",
    "# Решения 18 уравнений для n экспериментов\n",
    "solution2 = []\n",
    "for i in range(mpar.nn):\n",
    "    solution2.append(odeint(dif2, a_00(i), t2))\n",
    "end = time.time()\n",
    "vt = end-start\n",
    "print('Время выполнения:',vt) "
   ]
  },
  {
   "cell_type": "code",
   "execution_count": 17,
   "metadata": {},
   "outputs": [],
   "source": [
    "%matplotlib qt\n",
    "fig = plt.figure()\n",
    "ax = Axes3D(fig)\n",
    "y = solution[0][:, 1]\n",
    "x = solution[0][:, 0]\n",
    "z = solution[0][:, 2]\n",
    "y_1 = solution[0][:, 4]\n",
    "x_1 = solution[0][:, 3]\n",
    "z_1 = solution[0][:, 5]\n",
    "y_2 = solution[0][:, 7]\n",
    "x_2 = solution[0][:, 6]\n",
    "z_2 = solution[0][:, 8]\n",
    "ax.plot(x,y,z,'--b')\n",
    "ax.plot(x_1, y_1, z_1,'g-')\n",
    "ax.plot(x_2, y_2, z_2,'r')\n",
    "plt.show()\n",
    "\n"
   ]
  },
  {
   "cell_type": "code",
   "execution_count": null,
   "metadata": {},
   "outputs": [],
   "source": [
    "%matplotlib qt\n",
    "\n",
    "fig = plt.figure()\n",
    "ax = Axes3D(fig)\n",
    "y = solution2[0][:, 1]\n",
    "x = solution2[0][:, 0]\n",
    "z = solution2[0][:, 2]\n",
    "y_1 = solution2[0][:, 4]\n",
    "x_1 = solution2[0][:, 3]\n",
    "z_1 = solution2[0][:, 5]\n",
    "y_2 = solution2[0][:, 7]\n",
    "x_2 = solution2[0][:, 6]\n",
    "z_2 = solution2[0][:, 8]\n",
    "ax.plot(x,y,z,'--b')\n",
    "ax.plot(x_1, y_1, z_1,'g-')\n",
    "ax.plot(x_2, y_2, z_2,'r')\n",
    "plt.show()"
   ]
  },
  {
   "cell_type": "code",
   "execution_count": null,
   "metadata": {},
   "outputs": [],
   "source": []
  }
 ],
 "metadata": {
  "kernelspec": {
   "display_name": "Python 3",
   "language": "python",
   "name": "python3"
  },
  "language_info": {
   "codemirror_mode": {
    "name": "ipython",
    "version": 3
   },
   "file_extension": ".py",
   "mimetype": "text/x-python",
   "name": "python",
   "nbconvert_exporter": "python",
   "pygments_lexer": "ipython3",
   "version": "3.7.6"
  }
 },
 "nbformat": 4,
 "nbformat_minor": 4
}
