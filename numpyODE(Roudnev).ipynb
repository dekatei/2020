{
 "cells": [
  {
   "cell_type": "markdown",
   "metadata": {},
   "source": [
    "Уходим от списков к массивам"
   ]
  },
  {
   "cell_type": "code",
   "execution_count": 1,
   "metadata": {},
   "outputs": [
    {
     "name": "stdout",
     "output_type": "stream",
     "text": [
      "T 108.33078115826872\n"
     ]
    }
   ],
   "source": [
    "from scipy.integrate import odeint\n",
    "from mpl_toolkits.mplot3d import Axes3D\n",
    "from pylab import *\n",
    "import random \n",
    "#!pip install import-ipynb\n",
    "#import import_ipynb\n",
    "import modelparameters as mpar\n",
    "import numpy as np\n",
    "#from sympy import *\n",
    "%load_ext cython\n",
    "import time\n",
    "import array\n",
    "import numpy as np"
   ]
  },
  {
   "cell_type": "code",
   "execution_count": 2,
   "metadata": {},
   "outputs": [],
   "source": [
    "%load_ext pythran.magic"
   ]
  },
  {
   "cell_type": "code",
   "execution_count": 24,
   "metadata": {},
   "outputs": [],
   "source": [
    "%%pythran\n",
    "import numpy as np\n",
    "#pythran export foo(float64[],float)\n",
    "def foo(a,t): \n",
    "    rp=a.reshape((2,3,3))\n",
    "    r=rp[0,:,:]\n",
    "    p=rp[1,:,:]\n",
    "    reserved=np.zeros((2,3,3),dtype=np.float64)\n",
    "    reserved[0,:,:]=p\n",
    "    reserved[1,:,:]=r\n",
    "    return reserved"
   ]
  },
  {
   "cell_type": "code",
   "execution_count": 3,
   "metadata": {},
   "outputs": [
    {
     "name": "stdout",
     "output_type": "stream",
     "text": [
      "['x' 'y' 'z'] \n",
      "\n",
      "['x_1' 'y_1' 'z_1'] \n",
      "\n",
      "\n",
      " [[['x' 'y' 'z']\n",
      "  ['x_1' 'y_1' 'z_1']\n",
      "  ['x_2' 'y_2' 'z_2']]\n",
      "\n",
      " [['px' 'py' 'pz']\n",
      "  ['p_1x' 'p_1y' 'p_1z']\n",
      "  ['p_2x' 'p_2y' 'p_2z']]] \n",
      "\n",
      "[['x' 'y' 'z']\n",
      " ['x_1' 'y_1' 'z_1']\n",
      " ['x_2' 'y_2' 'z_2']] \n",
      " [['x_2' 'y_2' 'z_2']\n",
      " ['x' 'y' 'z']\n",
      " ['x_1' 'y_1' 'z_1']] \n",
      " [['x_1' 'y_1' 'z_1']\n",
      " ['x_2' 'y_2' 'z_2']\n",
      " ['x' 'y' 'z']]\n"
     ]
    }
   ],
   "source": [
    "tst=np.array(['x', 'y', 'z', 'x_1', 'y_1', 'z_1', 'x_2', 'y_2', 'z_2', \n",
    "              'px', 'py', 'pz', 'p_1x', 'p_1y', 'p_1z', 'p_2x', 'p_2y', 'p_2z'])\n",
    "print(tst[0:3],'\\n')\n",
    "print(tst[3:6],'\\n')\n",
    "tst=tst.reshape((2,3,3))\n",
    "print(\"\\n\",tst,\"\\n\")\n",
    "plus=[2,0,1]\n",
    "minus=[1,2,0]\n",
    "tstPlus=tst[:,plus,:]\n",
    "tstMinus=tst[:,minus,:]\n",
    "print(tst[0,:,:],'\\n',tstPlus[0,:,:],'\\n',tstMinus[0,:,:])\n"
   ]
  },
  {
   "cell_type": "code",
   "execution_count": 5,
   "metadata": {},
   "outputs": [],
   "source": [
    "\n",
    "#rhs=np.zeros((2,3,3))\n",
    "#global rhs"
   ]
  },
  {
   "cell_type": "code",
   "execution_count": null,
   "metadata": {},
   "outputs": [],
   "source": []
  },
  {
   "cell_type": "code",
   "execution_count": 7,
   "metadata": {},
   "outputs": [],
   "source": [
    "#%%pythran\n",
    "import numpy as np\n",
    "m_p=mpar.m_p\n",
    "aep=mpar.aep\n",
    "app=mpar.app\n",
    "M=np.array([[1.0],[m_p],[m_p]])\n",
    "\n",
    "PPlus  = np.array([2,0,1])\n",
    "PMinus = np.array([1,2,0])\n",
    "a2=np.array([[aep**2],[aep**2],[app**2]])\n",
    "fc1=np.array([1,-1,1]).reshape(3,1)\n",
    "fc2=np.array([-1,-1,1]).reshape(3,1)\n",
    "rhs=np.zeros((2,3,3),dtype=np.float64)\n",
    "global rhs\n",
    "def  dif(a , t) :\n",
    "    global rhs\n",
    "    rp=a.reshape((2,3,3))\n",
    "    r=rp[0,:,:]\n",
    "    p=rp[1,:,:]\n",
    "    dr=r-r[PPlus,:]\n",
    "    fplus_norm=np.sqrt(np.linalg.norm(dr,axis=1,keepdims=True)**2+a2)**3\n",
    "    fplus=dr/fplus_norm\n",
    "    \n",
    "    ftotal=fplus*fc2 + fplus[PMinus,:]*fc1\n",
    "    rhs[0,:,:]=p/M\n",
    "    rhs[1:,:]=ftotal\n",
    "    return rhs\n"
   ]
  },
  {
   "cell_type": "code",
   "execution_count": 11,
   "metadata": {},
   "outputs": [],
   "source": [
    "\n",
    "def  dif_v2(a , t) :\n",
    "    #x, y, z, x_1, y_1, z_1, x_2, y_2, z_2, px, py, pz, p_1x, p_1y, p_1z, p_2x, p_2y, p_2z = a\n",
    "    rp=a.reshape((2,3,3))\n",
    "    #print(rp)\n",
    "    r=rp[0,:,:]\n",
    "    p=rp[1,:,:]\n",
    "    dr=r-r[PPlus,:]\n",
    "    #print(\"dr=\",dr)\n",
    "    fplusn=np.sqrt(np.linalg.norm(rp[0,:,:]-rp[0,PPlus,:],axis=1,keepdims=True)**2+a2)**3\n",
    "    #print(\"fplusn=\",fplusn)\n",
    "    fplus=(rp[0,:,:]-rp[0,PPlus,:])/fplusn\n",
    "    #print(fplus)\n",
    "    #print()\n",
    "    ftotal=fplus[PMinus,:]*fc1+fplus*fc2\n",
    "    #print(ftotal)\n",
    "    rhs=np.zeros((2,3,3),dtype=np.float64)\n",
    "    rhs[0,:,:]=p/M\n",
    "    rhs[1:,:]=ftotal\n",
    "    return rhs.flatten()"
   ]
  },
  {
   "cell_type": "code",
   "execution_count": 8,
   "metadata": {},
   "outputs": [
    {
     "name": "stdout",
     "output_type": "stream",
     "text": [
      "CPU times: user 211 µs, sys: 18 µs, total: 229 µs\n",
      "Wall time: 183 µs\n"
     ]
    },
    {
     "data": {
      "text/plain": [
       "array([[[ 0.00000000e+00,  0.00000000e+00,  0.00000000e+00],\n",
       "        [ 5.44602984e-05,  1.08920597e-04,  1.63380895e-04],\n",
       "        [-5.44602984e-05, -1.08920597e-04, -1.63380895e-04]],\n",
       "\n",
       "       [[ 0.00000000e+00,  0.00000000e+00,  0.00000000e+00],\n",
       "        [-0.00000000e+00, -0.00000000e+00, -8.69253871e-02],\n",
       "        [ 0.00000000e+00,  0.00000000e+00,  8.69253871e-02]]])"
      ]
     },
     "execution_count": 8,
     "metadata": {},
     "output_type": "execute_result"
    }
   ],
   "source": [
    "a_0 =  np.array([0.0, 0.0, 0.0, \n",
    "                 0.0, 0.0, 1.0, \n",
    "                 0.0, 0.0, -1.0, \n",
    "                 0.0, 0.0, 0.0, 0.1, 0.2, 0.3, -0.1, -0.2, -0.3])\n",
    "t=0.0\n",
    "%time (dif(a_0,t))"
   ]
  },
  {
   "cell_type": "code",
   "execution_count": 12,
   "metadata": {},
   "outputs": [
    {
     "name": "stdout",
     "output_type": "stream",
     "text": [
      "50.4 µs ± 133 ns per loop (mean ± std. dev. of 7 runs, 10000 loops each)\n"
     ]
    }
   ],
   "source": [
    "%%timeit \n",
    "d=dif(a_0,t)"
   ]
  },
  {
   "cell_type": "code",
   "execution_count": null,
   "metadata": {},
   "outputs": [],
   "source": [
    "%%cython -a\n",
    "cimport numpy as np\n",
    "from numpy cimport int32_t\n",
    "from cython.view cimport array as carray\n",
    "cdef extern from \"math.h\":\n",
    "    double sin(double)\n",
    "    const double pi \"M_PI\"\n",
    "cdef float aep = 1.1560\n",
    "cdef float app = 0.8669\n",
    "cdef float m_p = 1836.2\n",
    "cdef float E_0 = 0.6\n",
    "cdef float w_0 = 0.058\n",
    "cdef int N = 3\n",
    "cdef float T = 2 * pi * N /w_0\n",
    "\n",
    "cdef  double length2(double[:] R,  double[:] r):\n",
    "    return pow((R[0] - r[0]),2)  + pow((R[1] - r[1]),2) + pow((R[2] - r[2]),2)\n",
    "\n",
    "cdef  float f_e(int i,  double[:] R_1,  double[:] R_2,  double[:] r):\n",
    "    return (R_1[i] - r[i]) / (\n",
    "                pow((length2(R_1,r) + pow(aep,2)), (3 / 2))) + (\n",
    "                (R_2[i] - r[i])) /  (\n",
    "                pow((length2(R_2,r) + pow(aep, 2)),(3 / 2)))\n",
    "\n",
    "cdef float f_p1(int i,  double[:] R_1,  double[:] R_2,  double[:] r) :\n",
    "        return (-(R_1[i] - r[i]) / (\n",
    "                pow((length2(R_1,r) + pow(aep,2)),  (3 / 2))) + (R_1[i] - R_2[i]) / pow((length2(R_1,R_2) + pow(app,2)),(3 / 2)))\n",
    "\n",
    "cdef float f_p2(int i,  double[:] R_1,  double[:] R_2,  double[:] r) :\n",
    "        return (-(R_2[i] - r[i]) / (\n",
    "                pow((length2(R_2,r) + pow(aep,2)) , (3 / 2))) - (R_1[i] - R_2[i]) / pow((length2(R_1,R_2) + pow(app,2)),(3 / 2)))\n",
    "\n",
    "\n",
    "\n",
    "    \n",
    "    return dadt\n",
    "cdef float E(t):\n",
    "    E = E_0 * pow((sin(pi * t / T)),2) * sin(w_0 * t)\n",
    "    return E\n",
    "\n",
    "cpdef  dif2(double[:]a, double t2):\n",
    "    x, y, z, x_1, y_1, z_1, x_2, y_2, z_2, px, py, pz, p_1x, p_1y, p_1z, p_2x, p_2y, p_2z = a\n",
    "    cdef int L = 100000\n",
    "    cdef double [3] electron = [x, y, z]\n",
    "    cdef double [3] proton1 = [x_1, y_1, z_1]\n",
    "    cdef double [3] proton2 = [x_2, y_2, z_2]\n",
    "    dadt  = [px, py, pz,\n",
    "            p_1x / m_p, p_1y / m_p, p_1z / m_p,\n",
    "            p_2x / m_p, p_2y / m_p, p_2z / m_p,\n",
    "            f_e(0, proton1,proton2, electron),\n",
    "            f_e(1, proton1,proton2, electron),\n",
    "            f_e(2, proton1,proton2, electron)- E(t2),\n",
    "            f_p1(0,  proton1,proton2, electron),\n",
    "            f_p1(1,  proton1,proton2, electron),\n",
    "            f_p1(2,  proton1,proton2, electron) + E(t2), \n",
    "            f_p2(0,  proton1,proton2, electron),\n",
    "            f_p2(1,  proton1,proton2, electron),\n",
    "            f_p2(2,  proton1,proton2, electron) + E(t2)] \n",
    "    return dadt"
   ]
  },
  {
   "cell_type": "code",
   "execution_count": null,
   "metadata": {},
   "outputs": [],
   "source": []
  },
  {
   "cell_type": "code",
   "execution_count": null,
   "metadata": {
    "jupyter": {
     "source_hidden": true
    }
   },
   "outputs": [],
   "source": [
    "p = mpar.p\n",
    "t = np.linspace(0, 50, 100)\n",
    "#def a_0(i):\n",
    "#####a_0 =  np.array([0.0, 0.0, 0.0, 0.0, 0.0, 0.0, 0.0, 0.0, 0.0, 0.0, 0.0, 0.0, 0.0, 0.0, 0.0, 0.0, 0.0, 0.0])\n",
    "a_0 = np.zeros((18),dtype=np.float64)\n",
    "#print(dif2,'uyi',a_0,'niu', t) \n",
    "(odeint(dif, a_0, t))"
   ]
  },
  {
   "cell_type": "code",
   "execution_count": null,
   "metadata": {},
   "outputs": [],
   "source": [
    "p = mpar.p\n",
    "R_1 = np.array([-mpar.dist/2, 0.0, 0.0]) #начальные положения pr1,pr2,e\n",
    "R_2 = np.array([mpar.dist/2, 0.0, 0.0])\n",
    "r = np.array([0,0,0])\n",
    "i=0\n",
    "\n",
    "print (mpar.dist)\n",
    "def a_0(i):\n",
    "    a_0 = np.array([0.0, 0.0, 0.0,\n",
    "                    -mpar.dist / 2, 0.0, 0.0,\n",
    "                    mpar.dist / 2, 0.0, 0.0,\n",
    "                    p[i][0], p[i][1], p[i][2], \n",
    "                    0.0, 0.0, 0.0, \n",
    "                    0.0, 0.0, 0.0])\n",
    "    return a_0\n",
    "solution =  []\n",
    "start = time.time()\n",
    "odeint(dif, a_0(i), mpar.t)\n",
    "#Решения 18 уравнений для n экспериментов\n",
    "for i in range (mpar.n):\n",
    "    solution.append(odeint(dif, a_0(i), mpar.t))\n",
    "#print (\"rfn\", solution[1][mpar.L -1,3])\n",
    "\n",
    "\n",
    "#Решаем сиситему 18 диф. уравнений с лазером\n",
    "t2 = np.linspace(mpar.u, mpar.u + 325, 100000)\n",
    "\n",
    "def a_00(i):\n",
    "    a_00 = solution[i][mpar.L -1]\n",
    "    return a_00\n",
    "solution2 = []\n",
    "\n",
    "\n",
    "# Решения 18 уравнений для n экспериментов\n",
    "for i in range(mpar.n):\n",
    "    solution2.append(odeint(dif2, a_00(i), t2))\n",
    "\n",
    "end = time.time()\n",
    "vt = end-start\n",
    "print('Время выполнения:',vt)\n",
    "print('Среднее время выполнения одного эксперимента:',vt/mpar.nn)"
   ]
  },
  {
   "cell_type": "code",
   "execution_count": null,
   "metadata": {},
   "outputs": [],
   "source": [
    "first = time.time()\n",
    "solution2 = []\n",
    "t2 = linspace(mpar.u, mpar.u + 325, 100000)\n",
    "def a_00(i):\n",
    "    a_00 = solution[i][mpar.L -1]\n",
    "    return a_00\n",
    "for i in range (mpar.n):\n",
    "    solution2.append(odeint(dif2, a_00(i), t2))\n",
    "firstend = time.time()\n",
    "print(firstend-first)"
   ]
  },
  {
   "cell_type": "code",
   "execution_count": null,
   "metadata": {},
   "outputs": [],
   "source": [
    "first = time.time()\n",
    "solution2 = []\n",
    "t2 = linspace(mpar.u, mpar.u + 325, 100000)\n",
    "def a_00(i):\n",
    "    a_00 = np.array([solution[i][mpar.L - 1, 0], solution[i][mpar.L - 1, 1], solution[i][mpar.L - 1, 2], \n",
    "                     solution[i][mpar.L - 1, 3], solution[i][mpar.L - 1, 4], solution[i][mpar.L - 1, 5],\n",
    "                     solution[i][mpar.L - 1, 6], solution[i][mpar.L - 1, 7], solution[i][mpar.L - 1, 8],\n",
    "                     solution[i][mpar.L - 1, 9], solution[i][mpar.L - 1, 10], solution[i][mpar.L - 1, 11],\n",
    "                     solution[i][mpar.L - 1, 12], solution[i][mpar.L - 1, 13], solution[i][mpar.L - 1, 14],\n",
    "                     solution[i][mpar.L - 1, 15], solution[i][mpar.L - 1, 16], solution[i][mpar.L - 1, 17]])\n",
    "    return a_00\n",
    "for i in range (mpar.n):\n",
    "    solution2.append(odeint(dif2, a_00(i), t2))\n",
    "firstend = time.time()\n",
    "print(firstend-first)"
   ]
  },
  {
   "cell_type": "code",
   "execution_count": null,
   "metadata": {},
   "outputs": [],
   "source": []
  },
  {
   "cell_type": "code",
   "execution_count": null,
   "metadata": {},
   "outputs": [],
   "source": []
  }
 ],
 "metadata": {
  "kernelspec": {
   "display_name": "Python 3",
   "language": "python",
   "name": "python3"
  },
  "language_info": {
   "codemirror_mode": {
    "name": "ipython",
    "version": 3
   },
   "file_extension": ".py",
   "mimetype": "text/x-python",
   "name": "python",
   "nbconvert_exporter": "python",
   "pygments_lexer": "ipython3",
   "version": "3.8.5"
  }
 },
 "nbformat": 4,
 "nbformat_minor": 4
}
