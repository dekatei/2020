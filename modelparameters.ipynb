{
 "cells": [
  {
   "cell_type": "code",
   "execution_count": 1,
   "metadata": {},
   "outputs": [
    {
     "name": "stdout",
     "output_type": "stream",
     "text": [
      "0.26163601875305176 0.19999999999999998\n",
      "1.5070016255625132\n"
     ]
    }
   ],
   "source": [
    "import numpy as np\n",
    "import pylab as py\n",
    "import random\n",
    "import time \n",
    "st =time.time()\n",
    "m_e = 1\n",
    "#aee = 1.4991\n",
    "aep = 1.1560\n",
    "app = 0.8669\n",
    "m_p = 1836.2  # massofproton\n",
    "w_0 = 0.058 #frequency\n",
    "N = 3 \n",
    "E_0 = 0.6\n",
    "L = 1000 # количество одинаковых промежутков времени \n",
    "T = 2 * np.pi * N /w_0  # Период колебаний\n",
    "#print('T', T)\n",
    "u = 3 * 325 #время на которое предоставляем систему самой себе\n",
    "t = py.linspace(0, u, L)\n",
    "# t = linspace(0,2*0.03, L)\n",
    "nn = 5 \n",
    "eps = 0.1\n",
    "dist = 2 * ((2 ** (2 / 3) * aep ** 2 - app ** 2) / (4 - 2 ** (2 / 3))) ** (1 / 2) # distance between protons\n",
    "#def momentum(n,eps):  # задаем количество экспериментов n, для них вектор импульса для электрона, eps - начальная энергия\n",
    "#        p = []\n",
    "#        for _ in range(n):\n",
    "#            # p.append(0)\n",
    "#            pi = np.pi\n",
    "#            theta = pi * random.uniform(0, 1)  # randit обе границы включаются в диапазон, только целые числа ,randrange не включая правую границу\n",
    "#            phi = 2 * pi * random.uniform(0, 1)\n",
    "#            p_x = (2 * eps) ** (0.5) * np.cos(phi) * np.sin(theta)\n",
    "#            p_y = (2 * eps) ** (0.5) * np.sin(phi) * np.sin(theta)\n",
    "#            p_z = (2 * eps) ** (0.5) * np.cos(theta)\n",
    "#            p.append([p_x, p_y, p_z])\n",
    "#\n",
    "#        return p # набор векторов импульса\n",
    "#p = momentum(n,eps)\n",
    "S = []\n",
    "n = 10000\n",
    "#попытка сделать равномерное распределение на сфере\n",
    "def xyz(n):\n",
    "    xyz = []\n",
    "    for _ in range(n):\n",
    "        xyz.append([random.uniform(-1, 1), random.uniform(-1, 1), random.uniform(-1, 1)])\n",
    "    return xyz\n",
    "A = xyz(n)\n",
    "def length2(i, xyz):\n",
    "    a = xyz[i][0] ** 2 + xyz[i][1] ** 2 + xyz[i][2] ** 2\n",
    "    return a\n",
    "for i in range(n) :\n",
    "    if not length2(i, A) > 1 :\n",
    "        S.append(A[i])\n",
    "p = np.array(S) \n",
    "for i in range (nn):\n",
    "    b = length2(i,p)\n",
    "    p[i][0]= (2 * eps) ** (0.5) * p[i][0]/b**0.5\n",
    "    p[i][1]= (2 * eps) ** (0.5) * p[i][1]/b**0.5\n",
    "    p[i][2]= (2 * eps) ** (0.5) * p[i][2]/b**0.5\n",
    "end = time.time()\n",
    "print(end - st,length2(1,p))\n",
    "print(dist)\n"
   ]
  },
  {
   "cell_type": "code",
   "execution_count": null,
   "metadata": {},
   "outputs": [],
   "source": []
  },
  {
   "cell_type": "code",
   "execution_count": null,
   "metadata": {},
   "outputs": [],
   "source": []
  },
  {
   "cell_type": "code",
   "execution_count": null,
   "metadata": {},
   "outputs": [],
   "source": []
  }
 ],
 "metadata": {
  "kernelspec": {
   "display_name": "Python 3",
   "language": "python",
   "name": "python3"
  },
  "language_info": {
   "codemirror_mode": {
    "name": "ipython",
    "version": 3
   },
   "file_extension": ".py",
   "mimetype": "text/x-python",
   "name": "python",
   "nbconvert_exporter": "python",
   "pygments_lexer": "ipython3",
   "version": "3.7.6"
  }
 },
 "nbformat": 4,
 "nbformat_minor": 4
}
