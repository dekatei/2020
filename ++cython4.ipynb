{
 "cells": [
  {
   "cell_type": "code",
   "execution_count": 1,
   "metadata": {},
   "outputs": [
    {
     "name": "stdout",
     "output_type": "stream",
     "text": [
      "T 108.33078115826872\n"
     ]
    }
   ],
   "source": [
    "from scipy.integrate import odeint\n",
    "from mpl_toolkits.mplot3d import Axes3D\n",
    "from pylab import *\n",
    "import random \n",
    "#!pip install import-ipynb\n",
    "#import import_ipynb\n",
    "import modelparameters as mpar\n",
    "import numpy as np\n",
    "#from sympy import *\n",
    "%load_ext Cython\n",
    "import time\n",
    "import array"
   ]
  },
  {
   "cell_type": "code",
   "execution_count": 3,
   "metadata": {},
   "outputs": [],
   "source": [
    "%%cython \n",
    "import numpy as np\n",
    "cimport numpy as np\n",
    "from numpy cimport int32_t\n",
    "from numpy cimport float64_t\n",
    "import cython\n",
    "\n",
    "cdef extern from \"math.h\":\n",
    "    double sin(double)\n",
    "    const double pi \"M_PI\"\n",
    "cdef float64_t aep = 1.1560\n",
    "cdef float64_t app = 0.8669\n",
    "cdef float64_t m_p = 1836.2\n",
    "cdef float64_t E_0 = 0.6\n",
    "cdef float64_t w_0 = 0.058\n",
    "cdef int32_t N = 3\n",
    "cdef float64_t T = 2*pi*N/w_0\n",
    "\n",
    "\n",
    "cdef  float64_t length2(float64_t[:] R,  float64_t[:] r):\n",
    "    return pow((R[0] - r[0]),2)  + pow((R[1] - r[1]),2) + pow((R[2] - r[2]),2)\n",
    "\n",
    "cdef  float f_e(int i,  float64_t[:] R_1,  float64_t[:] R_2,  float64_t[:] r):\n",
    "    return (R_1[i] - r[i]) / (\n",
    "                pow((length2(R_1,r) + pow(aep,2)), (3 / 2))) + (\n",
    "                (R_2[i] - r[i])) /  (\n",
    "                pow((length2(R_2,r) + pow(aep, 2)),(3 / 2)))\n",
    "\n",
    "cdef float f_p1(int i,  float64_t[:] R_1,  float64_t[:] R_2,  float64_t[:] r) :\n",
    "        return (-(R_1[i] - r[i]) / (\n",
    "                pow((length2(R_1,r) + pow(aep,2)),  (3 / 2))) + (R_1[i] - R_2[i]) / pow((length2(R_1,R_2) + pow(app,2)),(3 / 2)))\n",
    "\n",
    "\n",
    "cdef float f_p2(int i,  float64_t[:] R_1,  float64_t[:] R_2,  float64_t[:] r) :\n",
    "        return (-(R_2[i] - r[i]) / (\n",
    "                pow((length2(R_2,r) + pow(aep,2)) , (3 / 2))) - (R_1[i] - R_2[i]) / pow((length2(R_1,R_2) + pow(app,2)),(3 / 2)))\n",
    "\n",
    "cdef float64_t[:] dadt = np.zeros((18), dtype=np.float64)\n",
    "\n",
    "\n",
    "\n",
    "cpdef  dif( float64_t[:] a, float64_t t) :\n",
    "    #x, y, z, x_1, y_1, z_1, x_2, y_2, z_2, px, py, pz, p_1x, p_1y, p_1z, p_2x, p_2y, p_2z = a\n",
    "    cdef float64_t [:] electron = a[:3]\n",
    "    cdef float64_t [:] proton1 = a[3:6]\n",
    "    cdef float64_t [:] proton2 = a[6:9]\n",
    "    dadt[:3]=a[9:12]\n",
    "    for i in range(3):\n",
    "        dadt[i+3]=a[i+12]/m_p\n",
    "        dadt[i+6]=a[i+15]/m_p\n",
    "    dadt[9]=f_e(0,proton1,proton2, electron)\n",
    "    dadt[10]=f_e(1,proton1,proton2, electron)\n",
    "    dadt[11]=f_e(2, proton1,proton2, electron)\n",
    "    dadt[12]=f_p1(0, proton1,proton2, electron)\n",
    "    dadt[13]=f_p1(1, proton1,proton2, electron)\n",
    "    dadt[14]=f_p1(2, proton1,proton2, electron)\n",
    "    dadt[15]=f_p2(0, proton1,proton2, electron)\n",
    "    dadt[16]=f_p2(1, proton1,proton2, electron)\n",
    "    dadt[17]=f_p2(2, proton1,proton2, electron)\n",
    "    \n",
    "    return np.asarray(dadt)\n",
    "cdef double E(double t):\n",
    "    E = E_0 * pow((sin(pi * t / T)),2) * sin(w_0 * t)\n",
    "    return E\n",
    "cpdef  dif2(float64_t[:]a, float64_t t2):\n",
    "    #x, y, z, x_1, y_1, z_1, x_2, y_2, z_2, px, py, pz, p_1x, p_1y, p_1z, p_2x, p_2y, p_2z = a\n",
    "    cdef int L = 100000\n",
    "    cdef float64_t [:] electron = a[:3]\n",
    "    cdef float64_t [:] proton1 = a[3:6]\n",
    "    cdef float64_t [:] proton2 = a[6:9]\n",
    "    dadt[:3]=a[9:12]\n",
    "    for i in range(3):\n",
    "        dadt[i+3]=a[i+12]/m_p\n",
    "        dadt[i+6]=a[i+15]/m_p\n",
    "    dadt[9]=f_e(0,proton1,proton2, electron)\n",
    "    dadt[10]=f_e(1,proton1,proton2, electron)\n",
    "    dadt[11]=f_e(2, proton1,proton2, electron) - E(t2)\n",
    "    dadt[12]=f_p1(0, proton1,proton2, electron)\n",
    "    dadt[13]=f_p1(1, proton1,proton2, electron)\n",
    "    dadt[14]=f_p1(2, proton1,proton2, electron)+ E(t2)\n",
    "    dadt[15]=f_p2(0, proton1,proton2, electron)\n",
    "    dadt[16]=f_p2(1, proton1,proton2, electron)\n",
    "    dadt[17]=f_p2(2, proton1,proton2, electron)+ E(t2)\n",
    "    return np.asarray(dadt)"
   ]
  },
  {
   "cell_type": "code",
   "execution_count": 6,
   "metadata": {},
   "outputs": [
    {
     "name": "stdout",
     "output_type": "stream",
     "text": [
      "CPU times: user 32 µs, sys: 6 µs, total: 38 µs\n",
      "Wall time: 40.1 µs\n",
      "[ 0.00000000e+00  0.00000000e+00  0.00000000e+00  5.44602984e-05\n",
      "  1.08920597e-04  1.63380895e-04 -5.44602984e-05 -1.08920597e-04\n",
      " -1.63380895e-04  0.00000000e+00  0.00000000e+00 -3.24994253e-06\n",
      "  0.00000000e+00  0.00000000e+00 -8.69221374e-02 -0.00000000e+00\n",
      " -0.00000000e+00  8.69286373e-02]\n",
      "[ 0.   0.   0.   0.   0.   1.   0.   0.  -1.   0.   0.   0.   0.1  0.2\n",
      "  0.3 -0.1 -0.2 -0.3]\n"
     ]
    }
   ],
   "source": [
    "a_0 =  np.array([0.0, 0.0, 0.0, \n",
    "                 0.0, 0.0, 1.0, \n",
    "                 0.0, 0.0, -1.0, \n",
    "                 0.0, 0.0, 0.0, 0.1, 0.2, 0.3, -0.1, -0.2, -0.3])\n",
    "t=01.0\n",
    "%time d=dif2(a_0,t)\n",
    "print(d)\n",
    "print(a_0)"
   ]
  },
  {
   "cell_type": "code",
   "execution_count": 7,
   "metadata": {},
   "outputs": [
    {
     "name": "stdout",
     "output_type": "stream",
     "text": [
      "7.7 µs ± 300 ns per loop (mean ± std. dev. of 7 runs, 100000 loops each)\n"
     ]
    }
   ],
   "source": [
    "%%timeit\n",
    "d=dif(a_0,t)"
   ]
  },
  {
   "cell_type": "code",
   "execution_count": 8,
   "metadata": {},
   "outputs": [
    {
     "name": "stdout",
     "output_type": "stream",
     "text": [
      "7.72 µs ± 107 ns per loop (mean ± std. dev. of 7 runs, 100000 loops each)\n"
     ]
    }
   ],
   "source": [
    "%%timeit\n",
    "d=dif2(a_0,t)\n"
   ]
  },
  {
   "cell_type": "code",
   "execution_count": 9,
   "metadata": {},
   "outputs": [
    {
     "name": "stdout",
     "output_type": "stream",
     "text": [
      "1.5070016255625132\n",
      "Время выполнения: 7.31968092918396\n",
      "Среднее время выполнения одного эксперимента: 0.731968092918396\n"
     ]
    }
   ],
   "source": [
    "p = mpar.p\n",
    "R_1 = np.array([-mpar.dist/2, 0.0, 0.0]) #начальные положения pr1,pr2,e\n",
    "R_2 = np.array([mpar.dist/2, 0.0, 0.0])\n",
    "r = np.array([0,0,0])\n",
    "\n",
    "print (mpar.dist)\n",
    "def a_0(i):\n",
    "    a_0 = np.array([0.0, 0.0, 0.0,\n",
    "                    -mpar.dist / 2, 0.0, 0.0,\n",
    "                    mpar.dist / 2, 0.0, 0.0,\n",
    "                    p[i][0], p[i][1], p[i][2], \n",
    "                    0.0, 0.0, 0.0, \n",
    "                    0.0, 0.0, 0.0])\n",
    "    return a_0\n",
    "solution =  []\n",
    "start = time.time()\n",
    "#odeint(dif, a_0(i), mpar.t)\n",
    "#Решения 18 уравнений для n экспериментов\n",
    "for i in range (mpar.n):\n",
    "    solution.append(odeint(dif, a_0(i), mpar.t))\n",
    "\n",
    "\n",
    "\n",
    "#Решаем сиситему 18 диф. уравнений с лазером\n",
    "t2 = np.linspace(mpar.u, mpar.u + 325, 100000)\n",
    "\n",
    "def a_00(i):\n",
    "    a_00 = solution[i][mpar.L -1]\n",
    "    return a_00\n",
    "solution2 = []\n",
    "\n",
    "\n",
    "# Решения 18 уравнений для n экспериментов\n",
    "for i in range(mpar.n):\n",
    "    solution2.append(odeint(dif2, a_00(i), t2))\n",
    "\n",
    "end = time.time()\n",
    "vt = end-start\n",
    "print('Время выполнения:',vt)\n",
    "print('Среднее время выполнения одного эксперимента:',vt/mpar.nn)"
   ]
  },
  {
   "cell_type": "code",
   "execution_count": null,
   "metadata": {},
   "outputs": [],
   "source": []
  },
  {
   "cell_type": "code",
   "execution_count": null,
   "metadata": {},
   "outputs": [],
   "source": []
  }
 ],
 "metadata": {
  "kernelspec": {
   "display_name": "Python 3",
   "language": "python",
   "name": "python3"
  },
  "language_info": {
   "codemirror_mode": {
    "name": "ipython",
    "version": 3
   },
   "file_extension": ".py",
   "mimetype": "text/x-python",
   "name": "python",
   "nbconvert_exporter": "python",
   "pygments_lexer": "ipython3",
   "version": "3.7.6"
  }
 },
 "nbformat": 4,
 "nbformat_minor": 4
}
