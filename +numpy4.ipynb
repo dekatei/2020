{
 "cells": [
  {
   "cell_type": "code",
   "execution_count": 1,
   "metadata": {},
   "outputs": [
    {
     "name": "stdout",
     "output_type": "stream",
     "text": [
      "T 108.33078115826872\n"
     ]
    }
   ],
   "source": [
    "from scipy.integrate import odeint\n",
    "from mpl_toolkits.mplot3d import Axes3D\n",
    "from pylab import *\n",
    "import random \n",
    "#!pip install import-ipynb\n",
    "#import import_ipynb\n",
    "import modelparameters as mpar\n",
    "import numpy as np\n",
    "#from sympy import *\n",
    "%load_ext cython\n",
    "import time\n",
    "import array\n",
    "import numpy as np\n",
    "import pythran\n"
   ]
  },
  {
   "cell_type": "code",
   "execution_count": 2,
   "metadata": {},
   "outputs": [],
   "source": [
    "\n",
    "%load_ext pythran.magic"
   ]
  },
  {
   "cell_type": "code",
   "execution_count": 3,
   "metadata": {},
   "outputs": [],
   "source": [
    "%%pythran\n",
    "import numpy as np\n",
    "#pythran export foo(float64[],float)\n",
    "def foo(a,t): \n",
    "    rp=a.reshape((2,3,3))\n",
    "    r=rp[0,:,:]\n",
    "    p=rp[1,:,:]\n",
    "    reserved=np.zeros((2,3,3),dtype=np.float64)\n",
    "    reserved[0,:,:]=p\n",
    "    reserved[1,:,:]=r\n",
    "    return reserved"
   ]
  },
  {
   "cell_type": "code",
   "execution_count": 4,
   "metadata": {},
   "outputs": [
    {
     "name": "stdout",
     "output_type": "stream",
     "text": [
      "['x' 'y' 'z'] \n",
      "\n",
      "['x_1' 'y_1' 'z_1'] \n",
      "\n",
      "\n",
      " [[['x' 'y' 'z']\n",
      "  ['x_1' 'y_1' 'z_1']\n",
      "  ['x_2' 'y_2' 'z_2']]\n",
      "\n",
      " [['px' 'py' 'pz']\n",
      "  ['p_1x' 'p_1y' 'p_1z']\n",
      "  ['p_2x' 'p_2y' 'p_2z']]] \n",
      "\n",
      "[['x' 'y' 'z']\n",
      " ['x_1' 'y_1' 'z_1']\n",
      " ['x_2' 'y_2' 'z_2']] \n",
      " [['x_2' 'y_2' 'z_2']\n",
      " ['x' 'y' 'z']\n",
      " ['x_1' 'y_1' 'z_1']] \n",
      " [['x_1' 'y_1' 'z_1']\n",
      " ['x_2' 'y_2' 'z_2']\n",
      " ['x' 'y' 'z']] \n",
      " ['p_1z' 'p_2z' 'pz']\n"
     ]
    }
   ],
   "source": [
    "tst=np.array(['x', 'y', 'z', 'x_1', 'y_1', 'z_1', 'x_2', 'y_2', 'z_2', \n",
    "              'px', 'py', 'pz', 'p_1x', 'p_1y', 'p_1z', 'p_2x', 'p_2y', 'p_2z'])\n",
    "print(tst[0:3],'\\n')\n",
    "print(tst[3:6],'\\n')\n",
    "tst=tst.reshape((2,3,3))\n",
    "print(\"\\n\",tst,\"\\n\")\n",
    "plus=[2,0,1]\n",
    "minus=[1,2,0]\n",
    "tstPlus=tst[:,plus,:]\n",
    "tstMinus=tst[:,minus,:]\n",
    "#et =[-1.0,1.0,1.0]\n",
    "#e2t = [1,:,3]\n",
    "print(tst[0,:,:],'\\n',tstPlus[0,:,:],'\\n',tstMinus[0,:,:],'\\n',tstMinus[1,:,2])\n",
    "\n"
   ]
  },
  {
   "cell_type": "code",
   "execution_count": 6,
   "metadata": {},
   "outputs": [],
   "source": [
    "import numpy as np\n",
    "m_p=mpar.m_p\n",
    "aep=mpar.aep\n",
    "app=mpar.app\n",
    "M=np.array([[1.0],[m_p],[m_p]])\n",
    "\n",
    "PPlus  = np.array([2,0,1])\n",
    "PMinus = np.array([1,2,0])\n",
    "a2=np.array([[aep**2],[aep**2],[app**2]])\n",
    "fc1=np.array([1,-1,1]).reshape(3,1)\n",
    "fc2=np.array([-1,-1,1]).reshape(3,1)\n",
    "global rhs\n",
    "rhs=np.zeros((2,3,3),dtype=np.float64)\n",
    "\n",
    "def  dif(a , t) :\n",
    "    #global rhs\n",
    "    rp=a.reshape((2,3,3))\n",
    "    r=rp[0,:,:]\n",
    "    p=rp[1,:,:]\n",
    "    dr=r-r[PPlus,:]\n",
    "    fplus_norm=np.sqrt(np.linalg.norm(dr,axis=1,keepdims=True)**2+a2)**3\n",
    "    fplus=dr/fplus_norm\n",
    "    \n",
    "    ftotal=fplus*fc2 + fplus[PMinus,:]*fc1 \n",
    "    rhs[0,:,:]=p/M\n",
    "    rhs[1,:,:]=ftotal \n",
    "    return rhs.flatten()\n",
    "\n"
   ]
  },
  {
   "cell_type": "code",
   "execution_count": null,
   "metadata": {},
   "outputs": [],
   "source": [
    "def  dif_v2(a , t) :\n",
    "    #x, y, z, x_1, y_1, z_1, x_2, y_2, z_2, px, py, pz, p_1x, p_1y, p_1z, p_2x, p_2y, p_2z = a\n",
    "    rp=a.reshape((2,3,3))\n",
    "    #print(rp)\n",
    "    r=rp[0,:,:]\n",
    "    p=rp[1,:,:]\n",
    "    dr=r-r[PPlus,:]\n",
    "    #print(\"dr=\",dr)\n",
    "    fplusn=np.sqrt(np.linalg.norm(rp[0,:,:]-rp[0,PPlus,:],axis=1,keepdims=True)**2+a2)**3\n",
    "    #print(\"fplusn=\",fplusn)\n",
    "    fplus=(rp[0,:,:]-rp[0,PPlus,:])/fplusn\n",
    "    #print(fplus)\n",
    "    #print()\n",
    "    ftotal=fplus[PMinus,:]*fc1+fplus*fc2\n",
    "    #print(ftotal)\n",
    "    rhs=np.zeros((2,3,3),dtype=np.float64)\n",
    "    rhs[0,:,:]=p/M\n",
    "    rhs[1:,:]=ftotal\n",
    "    return rhs.flatten()"
   ]
  },
  {
   "cell_type": "code",
   "execution_count": null,
   "metadata": {},
   "outputs": [],
   "source": []
  },
  {
   "cell_type": "code",
   "execution_count": null,
   "metadata": {},
   "outputs": [],
   "source": []
  },
  {
   "cell_type": "code",
   "execution_count": null,
   "metadata": {},
   "outputs": [],
   "source": [
    "a_0 =  np.array([0.0, 0.0, 0.0, \n",
    "                 0.0, 0.0, 1.0, \n",
    "                 0.0, 0.0, -1.0, \n",
    "                 0.0, 0.0, 0.0, 0.1, 0.2, 0.3, -0.1, -0.2, -0.3])\n",
    "t=0.0\n",
    "%time (dif(a_0,t))"
   ]
  },
  {
   "cell_type": "code",
   "execution_count": 8,
   "metadata": {},
   "outputs": [],
   "source": [
    "#global rhs\n",
    "#rhs=np.zeros((2,3,3),dtype=np.float64)\n",
    "et = np.array([-1,1,1])\n",
    "def E(t):\n",
    "    E = mpar.E_0 * (np.sin(np.pi * t / mpar.T)) ** 2 * np.sin(mpar.w_0 * t)\n",
    "    return E\n",
    "\n",
    "def  dif2(a , t) :\n",
    "    #global rhs\n",
    "    rp=a.reshape((2,3,3))\n",
    "    r=rp[0,:,:]\n",
    "    p=rp[1,:,:]\n",
    "    dr=r-r[PPlus,:]\n",
    "    fplus_norm=np.sqrt(np.linalg.norm(dr,axis=1,keepdims=True)**2+a2)**3\n",
    "    fplus=dr/fplus_norm\n",
    "    \n",
    "    ftotal=fplus*fc2 + fplus[PMinus,:]*fc1 \n",
    "    rhs[0,:,:]=p/M\n",
    "    rhs[1:,:]=ftotal\n",
    "    rhs[1,:,2] += E(t)*et\n",
    "    return rhs.flatten()\n",
    "\n",
    "\n"
   ]
  },
  {
   "cell_type": "code",
   "execution_count": 9,
   "metadata": {},
   "outputs": [
    {
     "name": "stdout",
     "output_type": "stream",
     "text": [
      "CPU times: user 158 µs, sys: 59 µs, total: 217 µs\n",
      "Wall time: 193 µs\n"
     ]
    },
    {
     "data": {
      "text/plain": [
       "array([ 0.00000000e+00,  0.00000000e+00,  0.00000000e+00,  5.44602984e-05,\n",
       "        1.08920597e-04,  1.63380895e-04, -5.44602984e-05, -1.08920597e-04,\n",
       "       -1.63380895e-04,  0.00000000e+00,  0.00000000e+00, -3.24994253e-06,\n",
       "       -0.00000000e+00, -0.00000000e+00, -8.69221371e-02,  0.00000000e+00,\n",
       "        0.00000000e+00,  8.69286370e-02])"
      ]
     },
     "execution_count": 9,
     "metadata": {},
     "output_type": "execute_result"
    }
   ],
   "source": [
    "a_0 =  np.array([0.0, 0.0, 0.0, \n",
    "                 0.0, 0.0, 1.0, \n",
    "                 0.0, 0.0, -1.0, \n",
    "                 0.0, 0.0, 0.0, 0.1, 0.2, 0.3, -0.1, -0.2, -0.3])\n",
    "t=1.0\n",
    "%time (dif2(a_0,t))"
   ]
  },
  {
   "cell_type": "code",
   "execution_count": 12,
   "metadata": {},
   "outputs": [
    {
     "name": "stdout",
     "output_type": "stream",
     "text": [
      "26.5 µs ± 1.18 µs per loop (mean ± std. dev. of 7 runs, 10000 loops each)\n"
     ]
    }
   ],
   "source": [
    "%%timeit\n",
    "d=dif(a_0,t)"
   ]
  },
  {
   "cell_type": "code",
   "execution_count": 13,
   "metadata": {},
   "outputs": [
    {
     "name": "stdout",
     "output_type": "stream",
     "text": [
      "36.1 µs ± 1.08 µs per loop (mean ± std. dev. of 7 runs, 10000 loops each)\n"
     ]
    }
   ],
   "source": [
    "%%timeit\n",
    "d=dif2(a_0,t)"
   ]
  },
  {
   "cell_type": "code",
   "execution_count": 15,
   "metadata": {},
   "outputs": [
    {
     "name": "stdout",
     "output_type": "stream",
     "text": [
      "1.5070016255625132\n",
      "Время выполнения: 16.944705963134766\n",
      "Среднее время выполнения одного эксперимента: 1.6944705963134765\n"
     ]
    }
   ],
   "source": [
    "p = mpar.p\n",
    "R_1 = np.array([-mpar.dist/2, 0.0, 0.0]) #начальные положения pr1,pr2,e\n",
    "R_2 = np.array([mpar.dist/2, 0.0, 0.0])\n",
    "r = np.array([0,0,0])\n",
    "\n",
    "print (mpar.dist)\n",
    "def a_0(i):\n",
    "    a_0 = np.array([0.0, 0.0, 0.0,\n",
    "                    -mpar.dist / 2, 0.0, 0.0,\n",
    "                    mpar.dist / 2, 0.0, 0.0,\n",
    "                    p[i][0], p[i][1], p[i][2], \n",
    "                    0.0, 0.0, 0.0, \n",
    "                    0.0, 0.0, 0.0])\n",
    "    return a_0\n",
    "solution =  []\n",
    "start = time.time()\n",
    "#odeint(dif, a_0(i), mpar.t)\n",
    "#Решения 18 уравнений для n экспериментов\n",
    "for i in range (mpar.n):\n",
    "    solution.append(odeint(dif, a_0(i), mpar.t))\n",
    "\n",
    "\n",
    "\n",
    "#Решаем сиситему 18 диф. уравнений с лазером\n",
    "t2 = np.linspace(mpar.u, mpar.u + 325, 100000)\n",
    "\n",
    "def a_00(i):\n",
    "    a_00 = solution[i][mpar.L -1]\n",
    "    return a_00\n",
    "solution2 = []\n",
    "\n",
    "\n",
    "# Решения 18 уравнений для n экспериментов\n",
    "for i in range(mpar.n):\n",
    "    solution2.append(odeint(dif2, a_00(i), t2))\n",
    "\n",
    "end = time.time()\n",
    "vt = end-start\n",
    "print('Время выполнения:',vt)\n",
    "print('Среднее время выполнения одного эксперимента:',vt/mpar.nn)"
   ]
  },
  {
   "cell_type": "code",
   "execution_count": null,
   "metadata": {},
   "outputs": [],
   "source": []
  }
 ],
 "metadata": {
  "kernelspec": {
   "display_name": "Python 3",
   "language": "python",
   "name": "python3"
  },
  "language_info": {
   "codemirror_mode": {
    "name": "ipython",
    "version": 3
   },
   "file_extension": ".py",
   "mimetype": "text/x-python",
   "name": "python",
   "nbconvert_exporter": "python",
   "pygments_lexer": "ipython3",
   "version": "3.7.6"
  }
 },
 "nbformat": 4,
 "nbformat_minor": 4
}
